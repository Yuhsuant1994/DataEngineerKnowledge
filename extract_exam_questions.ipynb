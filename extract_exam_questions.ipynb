{
 "cells": [
  {
   "cell_type": "markdown",
   "id": "1dc8acfe",
   "metadata": {},
   "source": [
    "* log into \"https://www.examtopics.com/discussions/google/\" and find your discussion keyword\n",
    "* topic can be more than 1, Professional Data Engineer has 1 and 2\n",
    "* check disccusion end_page from the webpage and modify the number 142"
   ]
  },
  {
   "cell_type": "code",
   "execution_count": 22,
   "id": "a495fcd2-a18e-446e-8b69-2c49d48388a4",
   "metadata": {
    "tags": []
   },
   "outputs": [],
   "source": [
    "import requests\n",
    "from bs4 import BeautifulSoup\n",
    "import webbrowser\n",
    "topic_number = 1\n",
    "discussion_keyword = f\"Exam Professional Data Engineer topic {topic_number} question\"\n",
    "base_url = \"https://www.examtopics.com/discussions/google/\"\n",
    "start_page = 1\n",
    "end_page = 142\n",
    "min_question_num = 0\n",
    "\n",
    "# Function to extract the question number from the URL\n",
    "def extract_question_number(url):\n",
    "    try:\n",
    "        # Assuming the URL format is consistent and the question number is always at the end\n",
    "        return int(url.split('-')[-1].rstrip('/'))\n",
    "    except ValueError:\n",
    "        # Return a default value or raise an error if the format is unexpected\n",
    "        return 0\n",
    "\n",
    "\n",
    "def find_discussion_links(base_url, start_page, end_page, min_question_num, topic_number):\n",
    "    links = []\n",
    "    for page_num in range(start_page, end_page + 1):\n",
    "        url = f\"{base_url}{page_num}/\"\n",
    "        response = requests.get(url)\n",
    "        soup = BeautifulSoup(response.text, 'html.parser')\n",
    "        \n",
    "        # Assuming discussions are in <a> tags; you'll need to adjust this based on the actual HTML\n",
    "        for a_tag in soup.find_all('a', href=True):\n",
    "            text = a_tag.text\n",
    "            if discussion_keyword in text:\n",
    "                question_num = int(text.split(' ')[-2])  # Adjust indexing based on actual text structure\n",
    "                if question_num > min_question_num:\n",
    "                    links.append(a_tag['href'])\n",
    "        links = [f\"https://www.examtopics.com{url if url.startswith('/discussions') else ''}\" for url in links]\n",
    "    # 照數字順序排序\n",
    "    return sorted(links, key=extract_question_number)\n",
    "\n",
    "\n",
    "\n"
   ]
  },
  {
   "cell_type": "code",
   "execution_count": 23,
   "id": "1a86b4db-85a3-4b80-838a-0da140972671",
   "metadata": {
    "tags": []
   },
   "outputs": [],
   "source": [
    "# Find discussion links\n",
    "discussion_links = find_discussion_links(base_url, start_page, end_page, min_question_num, topic_number)"
   ]
  },
  {
   "cell_type": "code",
   "execution_count": 34,
   "id": "c7cf64e5",
   "metadata": {},
   "outputs": [
    {
     "data": {
      "text/plain": [
       "345"
      ]
     },
     "execution_count": 34,
     "metadata": {},
     "output_type": "execute_result"
    }
   ],
   "source": [
    "len(discussion_links)"
   ]
  },
  {
   "cell_type": "markdown",
   "id": "c9d128d8",
   "metadata": {},
   "source": [
    "## 根據你一次要開啟的題數更改數字"
   ]
  },
  {
   "cell_type": "code",
   "execution_count": 44,
   "id": "a5d83663-c9b8-4852-8374-919a8a83b331",
   "metadata": {},
   "outputs": [],
   "source": [
    "# Open the first 10 links (or fewer if less than 10 were found)\n",
    "for link in discussion_links[:10]:\n",
    "    webbrowser.open(link)"
   ]
  },
  {
   "cell_type": "markdown",
   "id": "da2c8504",
   "metadata": {},
   "source": [
    "## 隨機開啟15題"
   ]
  },
  {
   "cell_type": "code",
   "execution_count": 51,
   "id": "82688438",
   "metadata": {},
   "outputs": [],
   "source": [
    "import random\n",
    "random_15 = random.sample(discussion_links, 15)\n",
    "print(random_15)\n",
    "for link in random_15:\n",
    "    webbrowser.open(link)"
   ]
  },
  {
   "cell_type": "markdown",
   "id": "37ffd568",
   "metadata": {},
   "source": [
    "## 或是打亂你的排序 再開啟"
   ]
  },
  {
   "cell_type": "code",
   "execution_count": 57,
   "id": "9c1ae099",
   "metadata": {},
   "outputs": [],
   "source": [
    "random.shuffle(discussion_links)\n",
    "for link in discussion_links[:10]:\n",
    "    webbrowser.open(link)"
   ]
  }
 ],
 "metadata": {
  "kernelspec": {
   "display_name": "Python 3 (ipykernel)",
   "language": "python",
   "name": "python3"
  },
  "language_info": {
   "codemirror_mode": {
    "name": "ipython",
    "version": 3
   },
   "file_extension": ".py",
   "mimetype": "text/x-python",
   "name": "python",
   "nbconvert_exporter": "python",
   "pygments_lexer": "ipython3",
   "version": "3.11.5"
  }
 },
 "nbformat": 4,
 "nbformat_minor": 5
}
